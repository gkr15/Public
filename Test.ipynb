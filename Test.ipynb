{
  "cells": [
    {
      "cell_type": "markdown",
      "metadata": {
        "id": "view-in-github",
        "colab_type": "text"
      },
      "source": [
        "<a href=\"https://colab.research.google.com/github/gkr15/Public/blob/main/Test.ipynb\" target=\"_parent\"><img src=\"https://colab.research.google.com/assets/colab-badge.svg\" alt=\"Open In Colab\"/></a>"
      ]
    },
    {
      "cell_type": "code",
      "execution_count": 2,
      "metadata": {
        "colab": {
          "base_uri": "https://localhost:8080/"
        },
        "id": "zB98NsW6Ta9n",
        "outputId": "1027c9d2-44dc-4430-ac9f-da82374d49dd"
      },
      "outputs": [
        {
          "output_type": "stream",
          "name": "stdout",
          "text": [
            "2 7\n",
            "9 11\n",
            "20 15\n",
            "[2]\n"
          ]
        }
      ],
      "source": [
        "nums = [2,7,11,15]\n",
        "\n",
        "target = 17\n",
        "temp = nums[0]\n",
        "res = []\n",
        "res.append(nums[0])\n",
        "for i in range(1,len(nums)):\n",
        "  print(temp,nums[i])\n",
        "  temp += nums[i]\n",
        "  if temp==target:\n",
        "    res.append(nums[i])\n",
        "print(res)"
      ]
    }
  ],
  "metadata": {
    "colab": {
      "name": "Untitled0.ipynb",
      "provenance": [],
      "authorship_tag": "ABX9TyMXEi/vEJCK4d2/7YG/D8bE",
      "include_colab_link": true
    },
    "kernelspec": {
      "display_name": "Python 3",
      "name": "python3"
    },
    "language_info": {
      "name": "python"
    }
  },
  "nbformat": 4,
  "nbformat_minor": 0
}